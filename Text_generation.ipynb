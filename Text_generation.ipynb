{
  "nbformat": 4,
  "nbformat_minor": 0,
  "metadata": {
    "colab": {
      "name": "Text_generation.ipynb",
      "provenance": [],
      "collapsed_sections": []
    },
    "kernelspec": {
      "name": "python3",
      "display_name": "Python 3"
    },
    "language_info": {
      "name": "python"
    },
    "accelerator": "GPU"
  },
  "cells": [
    {
      "cell_type": "markdown",
      "source": [
        "Import & Path"
      ],
      "metadata": {
        "id": "5AR-7yoZNxpj"
      }
    },
    {
      "cell_type": "code",
      "execution_count": 1,
      "metadata": {
        "id": "QJ-U4L2AFRj4"
      },
      "outputs": [],
      "source": [
        "import tensorflow as tf\n",
        "import matplotlib.pyplot as plt\n",
        "import numpy as np\n",
        "import platform\n",
        "import time\n",
        "import pathlib\n",
        "import os\n",
        "import nltk\n",
        "import re\n",
        "import pickle"
      ]
    },
    {
      "cell_type": "code",
      "source": [
        "# Set path\n",
        "from google.colab import drive\n",
        "drive.mount('/content/gdrive')\n",
        "data_folder = '/content/gdrive/MyDrive/DD2424 Text Generation/Data/'\n",
        "checkpoint_folder = '/content/gdrive/MyDrive/DD2424 Text Generation/Checkpoint/'\n",
        "model_folder = '/content/gdrive/MyDrive/DD2424 Text Generation/Model/'\n",
        "embedding_folder = '/content/gdrive/MyDrive/DD2424 Text Generation/embedding/'\n",
        "history_folder = '/content/gdrive/MyDrive/DD2424 Text Generation/History/'"
      ],
      "metadata": {
        "colab": {
          "base_uri": "https://localhost:8080/"
        },
        "id": "mR8LAlxSIcKW",
        "outputId": "aaf17af1-2ee1-4ac3-d9f0-1931db0ac1fe"
      },
      "execution_count": 2,
      "outputs": [
        {
          "output_type": "stream",
          "name": "stdout",
          "text": [
            "Mounted at /content/gdrive\n"
          ]
        }
      ]
    },
    {
      "cell_type": "markdown",
      "source": [
        "Read & Process"
      ],
      "metadata": {
        "id": "CFaaqbL3N4RD"
      }
    },
    {
      "cell_type": "markdown",
      "source": [
        "Character level"
      ],
      "metadata": {
        "id": "B3AMRG0qQfsA"
      }
    },
    {
      "cell_type": "code",
      "source": [
        "# Read the database file\n",
        "text = open(data_folder + 'shakespeare_full.txt', mode='r').read().lower()\n",
        "print('Length of text: {} characters'.format(len(text)))\n",
        "# The unique characters in the file\n",
        "vocab = sorted(set(text))\n",
        "print('{} unique characters'.format(len(vocab)))\n",
        "print('vocab:', vocab)\n",
        "# Map characters to their indices in vocabulary\n",
        "input2index = {char: index for index, char in enumerate(vocab)}\n",
        "# Map character indices to characters from vacabulary\n",
        "index2input = np.array(vocab)\n",
        "# Convert chars in text into indices\n",
        "text_as_int = np.array([input2index[char] for char in text])\n",
        "# Length of the vocabulary in chars.\n",
        "vocab_size = len(vocab)\n",
        "# One hot embedding\n",
        "embedding_matrix = np.eye(vocab_size)\n",
        "embedding_dim = vocab_size"
      ],
      "metadata": {
        "colab": {
          "base_uri": "https://localhost:8080/"
        },
        "id": "vcfhG_JPJTTs",
        "outputId": "ed555e32-1e49-4a7b-d33d-bb5a3cb8119d"
      },
      "execution_count": 3,
      "outputs": [
        {
          "output_type": "stream",
          "name": "stdout",
          "text": [
            "Length of text: 4694778 characters\n",
            "51 unique characters\n",
            "vocab: ['\\t', '\\n', ' ', '!', '$', \"'\", '(', ')', ',', '-', '.', '0', '1', '2', '3', '4', '5', '6', '7', '8', '9', ':', '?', '[', ']', 'a', 'b', 'c', 'd', 'e', 'f', 'g', 'h', 'i', 'j', 'k', 'l', 'm', 'n', 'o', 'p', 'q', 'r', 's', 't', 'u', 'v', 'w', 'x', 'y', 'z']\n"
          ]
        }
      ]
    },
    {
      "cell_type": "markdown",
      "source": [
        "Word level"
      ],
      "metadata": {
        "id": "BoTwHPxSQli3"
      }
    },
    {
      "cell_type": "code",
      "source": [
        "# Read the database file\n",
        "text = open(data_folder + 'shakespeare_full.txt', mode='r').read().lower()\n",
        "word_buffer = ''\n",
        "delimiter = {'\\t', '\\n', ' ', '!', '$', \"'\", '(', ')', ',', '-', '.', ':', '?', '[', ']'}\n",
        "vocab = {word for word in delimiter}\n",
        "for i in text:\n",
        "  if i in delimiter:\n",
        "    if word_buffer != '' and word_buffer.lower() not in vocab:\n",
        "      vocab.add(word_buffer.lower())\n",
        "    if i == \"'\":\n",
        "      word_buffer = \"'\"\n",
        "    else:\n",
        "      word_buffer = ''\n",
        "  else:\n",
        "    word_buffer += i\n",
        "if word_buffer != '' and word_buffer.lower() not in vocab:\n",
        "  vocab.add(word_buffer.lower())\n",
        "vocab = sorted(vocab)\n",
        "vocab_size = len(vocab)\n",
        "# Map words to their indices in vocabulary\n",
        "input2index = {word: index for index, word in enumerate(vocab)}\n",
        "# Map indices to words from vacabulary\n",
        "index2input = np.array(vocab)\n",
        "# Convert words in text into indices\n",
        "text_as_int = []\n",
        "word_buffer = ''\n",
        "for i in text:\n",
        "  if i in delimiter:\n",
        "    if word_buffer != '':\n",
        "      text_as_int.append(input2index[word_buffer.lower()])\n",
        "    if i == \"'\":\n",
        "      word_buffer = \"'\"\n",
        "    else:\n",
        "      text_as_int.append(input2index[i])\n",
        "      word_buffer = ''\n",
        "  else:\n",
        "    word_buffer += i\n",
        "if word_buffer != '':\n",
        "  text_as_int.append(input2index[word_buffer.lower()])\n",
        "text_as_int = np.array(text_as_int)\n",
        "print(len(text_as_int))\n",
        "# Process the pre-trained word embedding\n",
        "embeddings_index = {}\n",
        "with open(embedding_folder + 'glove.6B.100d.txt') as f:\n",
        "  for line in f:\n",
        "    word, coefs = line.split(' ', 1)\n",
        "    coefs = np.fromstring(coefs, \"f\", sep=' ')\n",
        "    embeddings_index[word] = coefs    \n",
        "    embedding_dim = len(coefs)\n",
        "# Prepare embedding matrix\n",
        "hits = 0\n",
        "misses = 0\n",
        "embedding_matrix = np.zeros((len(vocab), embedding_dim))\n",
        "for index, word in enumerate(vocab):\n",
        "  embedding_vector = embeddings_index.get(word)\n",
        "  if embedding_vector is not None:\n",
        "    embedding_matrix[index] = embedding_vector\n",
        "    hits += 1\n",
        "  else:\n",
        "    misses += 1\n",
        "    embedding_matrix[index] = np.random.uniform(size=embedding_dim) * 2 - 1.0\n",
        "print(\"Converted %d words (%d misses)\" % (hits, misses))"
      ],
      "metadata": {
        "id": "3uDFbNS6QoJM",
        "colab": {
          "base_uri": "https://localhost:8080/"
        },
        "outputId": "ef3034fc-0f1b-43e2-e63c-09dbc3b03e86"
      },
      "execution_count": null,
      "outputs": [
        {
          "output_type": "stream",
          "name": "stdout",
          "text": [
            "1965280\n",
            "Converted 18013 words (5103 misses)\n"
          ]
        }
      ]
    },
    {
      "cell_type": "markdown",
      "source": [
        "Create training sequences"
      ],
      "metadata": {
        "id": "ZSgeTkYfPPi5"
      }
    },
    {
      "cell_type": "code",
      "source": [
        "def split_input_target(chunk):\n",
        "    input_text = chunk[:-1]\n",
        "    target_text = chunk[1:]\n",
        "    return input_text, target_text\n",
        "# The maximum length sentence we want for a single input in characters\n",
        "sequence_length = 100\n",
        "examples_per_epoch = len(text_as_int) // (sequence_length + 1)\n",
        "# Create training dataset\n",
        "int_dataset = tf.data.Dataset.from_tensor_slices(text_as_int)\n",
        "# Generate batched sequences out of the char_dataset\n",
        "sequences = int_dataset.batch(sequence_length + 1, drop_remainder=True)\n",
        "dataset = sequences.map(split_input_target)\n",
        "# Batch size\n",
        "BATCH_SIZE = 64\n",
        "# Buffer size to shuffle the dataset (TF data is designed to work\n",
        "# with possibly infinite sequences, so it doesn't attempt to shuffle\n",
        "# the entire sequence in memory. Instead, it maintains a buffer in\n",
        "# which it shuffles elements).\n",
        "BUFFER_SIZE = 10000\n",
        "dataset = dataset.shuffle(BUFFER_SIZE).batch(BATCH_SIZE, drop_remainder=True)\n",
        "num_val = int(dataset.cardinality().numpy() * 0.1)\n",
        "val_dataset = dataset.take(num_val) \n",
        "train_dataset = dataset.skip(num_val)"
      ],
      "metadata": {
        "id": "gP2n8E9qOwSs"
      },
      "execution_count": 4,
      "outputs": []
    },
    {
      "cell_type": "markdown",
      "source": [
        "Build the model - Choose one of the three RNN layers"
      ],
      "metadata": {
        "id": "OQ-5m3tkc3Ai"
      }
    },
    {
      "cell_type": "code",
      "source": [
        "# Number of RNN units\n",
        "rnn_units = 100\n",
        "# RNN model\n",
        "# Choose one of the three below\n",
        "\n",
        "# LSTM\n",
        "#rnn_layer_1 = tf.keras.layers.LSTM(units=rnn_units, return_sequences=True, stateful=True, recurrent_initializer=tf.keras.initializers.GlorotNormal())\n",
        "#rnn_layer_2 = tf.keras.layers.LSTM(units=rnn_units, return_sequences=True, stateful=True, recurrent_initializer=tf.keras.initializers.GlorotNormal())\n",
        "# Vanilla RNN\n",
        "rnn_layer = tf.keras.layers.SimpleRNN(units=rnn_units, return_sequences=True, stateful=True, recurrent_initializer=tf.keras.initializers.GlorotNormal())\n",
        "# GRU\n",
        "#rnn_layer = tf.keras.layers.GRU(units=rnn_units, return_sequences=True, stateful=True, recurrent_initializer=tf.keras.initializers.GlorotNormal())\n",
        "\n",
        "# Build the model\n",
        "def build_model(vocab_size, embedding_dim, rnn_units, batch_size):\n",
        "  model = tf.keras.models.Sequential()\n",
        "  model.add(tf.keras.layers.Embedding(\n",
        "    input_dim=vocab_size,\n",
        "    output_dim=embedding_dim,\n",
        "    embeddings_initializer=tf.keras.initializers.Constant(embedding_matrix),\n",
        "    trainable=False,\n",
        "    batch_input_shape=[batch_size, None]\n",
        "  ))\n",
        "  model.add(rnn_layer)\n",
        "  model.add(tf.keras.layers.Dense(vocab_size))\n",
        "  return model"
      ],
      "metadata": {
        "id": "xJk1Tg3kc0w3"
      },
      "execution_count": 12,
      "outputs": []
    },
    {
      "cell_type": "code",
      "source": [
        "model = build_model(vocab_size, embedding_dim, rnn_units, BATCH_SIZE)\n",
        "model.summary()"
      ],
      "metadata": {
        "id": "Zq5cZO8GfoCS",
        "colab": {
          "base_uri": "https://localhost:8080/"
        },
        "outputId": "5e771a40-7f40-402d-f46f-f864ccd8560e"
      },
      "execution_count": 13,
      "outputs": [
        {
          "output_type": "stream",
          "name": "stdout",
          "text": [
            "Model: \"sequential_2\"\n",
            "_________________________________________________________________\n",
            " Layer (type)                Output Shape              Param #   \n",
            "=================================================================\n",
            " embedding_2 (Embedding)     (64, None, 51)            2601      \n",
            "                                                                 \n",
            " simple_rnn (SimpleRNN)      (64, None, 100)           15200     \n",
            "                                                                 \n",
            " dense_2 (Dense)             (64, None, 51)            5151      \n",
            "                                                                 \n",
            "=================================================================\n",
            "Total params: 22,952\n",
            "Trainable params: 20,351\n",
            "Non-trainable params: 2,601\n",
            "_________________________________________________________________\n"
          ]
        }
      ]
    },
    {
      "cell_type": "markdown",
      "source": [
        "Train the model"
      ],
      "metadata": {
        "id": "_gOCaKwtpufT"
      }
    },
    {
      "cell_type": "code",
      "source": [
        "# The hyperparameters\n",
        "learning_rate = 0.001\n",
        "EPOCHS = 30\n",
        "\n",
        "# Define the loss function\n",
        "def loss(labels, logits):\n",
        "    return tf.keras.losses.sparse_categorical_crossentropy(\n",
        "      y_true=labels,\n",
        "      y_pred=logits,\n",
        "      from_logits=True\n",
        "    )\n",
        "# Define the optimizer\n",
        "adam_optimizer = tf.keras.optimizers.Adam(learning_rate=learning_rate)\n",
        "model.compile(\n",
        "    optimizer=adam_optimizer,\n",
        "    loss=loss\n",
        ")\n",
        "# Name of the checkpoint files\n",
        "checkpoint_callback=tf.keras.callbacks.ModelCheckpoint(\n",
        "    filepath=checkpoint_folder + 'ckpt_{epoch}',\n",
        "    save_weights_only=True\n",
        ")\n",
        "# Execute the training\n",
        "history = model.fit(\n",
        "    x=train_dataset,\n",
        "    epochs=EPOCHS,\n",
        "    validation_data=val_dataset,\n",
        "    callbacks=[checkpoint_callback]\n",
        ") "
      ],
      "metadata": {
        "id": "abaNsla8pvrJ",
        "colab": {
          "base_uri": "https://localhost:8080/"
        },
        "outputId": "24201345-d011-4cfa-81da-34b77a4d5933"
      },
      "execution_count": 14,
      "outputs": [
        {
          "output_type": "stream",
          "name": "stdout",
          "text": [
            "Epoch 1/30\n",
            "654/654 [==============================] - 45s 65ms/step - loss: 2.4386 - val_loss: 2.1678\n",
            "Epoch 2/30\n",
            "654/654 [==============================] - 45s 66ms/step - loss: 2.0798 - val_loss: 2.0292\n",
            "Epoch 3/30\n",
            "654/654 [==============================] - 44s 65ms/step - loss: 1.9759 - val_loss: 1.9509\n",
            "Epoch 4/30\n",
            "654/654 [==============================] - 44s 65ms/step - loss: 1.9135 - val_loss: 1.9083\n",
            "Epoch 5/30\n",
            "654/654 [==============================] - 44s 65ms/step - loss: 1.8721 - val_loss: 1.8724\n",
            "Epoch 6/30\n",
            "654/654 [==============================] - 44s 65ms/step - loss: 1.8420 - val_loss: 1.8462\n",
            "Epoch 7/30\n",
            "654/654 [==============================] - 45s 66ms/step - loss: 1.8183 - val_loss: 1.8249\n",
            "Epoch 8/30\n",
            "654/654 [==============================] - 44s 65ms/step - loss: 1.7992 - val_loss: 1.8092\n",
            "Epoch 9/30\n",
            "654/654 [==============================] - 45s 66ms/step - loss: 1.7835 - val_loss: 1.7891\n",
            "Epoch 10/30\n",
            "654/654 [==============================] - 44s 65ms/step - loss: 1.7698 - val_loss: 1.7821\n",
            "Epoch 11/30\n",
            "654/654 [==============================] - 44s 65ms/step - loss: 1.7583 - val_loss: 1.7639\n",
            "Epoch 12/30\n",
            "654/654 [==============================] - 45s 66ms/step - loss: 1.7468 - val_loss: 1.7586\n",
            "Epoch 13/30\n",
            "654/654 [==============================] - 44s 65ms/step - loss: 1.7387 - val_loss: 1.7511\n",
            "Epoch 14/30\n",
            "654/654 [==============================] - 45s 66ms/step - loss: 1.7309 - val_loss: 1.7403\n",
            "Epoch 15/30\n",
            "654/654 [==============================] - 45s 66ms/step - loss: 1.7236 - val_loss: 1.7357\n",
            "Epoch 16/30\n",
            "654/654 [==============================] - 45s 66ms/step - loss: 1.7172 - val_loss: 1.7296\n",
            "Epoch 17/30\n",
            "654/654 [==============================] - 45s 65ms/step - loss: 1.7117 - val_loss: 1.7223\n",
            "Epoch 18/30\n",
            "654/654 [==============================] - 45s 65ms/step - loss: 1.7067 - val_loss: 1.7178\n",
            "Epoch 19/30\n",
            "654/654 [==============================] - 44s 65ms/step - loss: 1.7012 - val_loss: 1.7126\n",
            "Epoch 20/30\n",
            "654/654 [==============================] - 45s 65ms/step - loss: 1.6969 - val_loss: 1.7122\n",
            "Epoch 21/30\n",
            "654/654 [==============================] - 45s 65ms/step - loss: 1.6931 - val_loss: 1.7078\n",
            "Epoch 22/30\n",
            "654/654 [==============================] - 45s 65ms/step - loss: 1.6890 - val_loss: 1.7046\n",
            "Epoch 23/30\n",
            "654/654 [==============================] - 44s 65ms/step - loss: 1.6858 - val_loss: 1.7024\n",
            "Epoch 24/30\n",
            "654/654 [==============================] - 45s 66ms/step - loss: 1.6827 - val_loss: 1.6988\n",
            "Epoch 25/30\n",
            "654/654 [==============================] - 44s 65ms/step - loss: 1.6797 - val_loss: 1.6971\n",
            "Epoch 26/30\n",
            "654/654 [==============================] - 45s 66ms/step - loss: 1.6769 - val_loss: 1.6892\n",
            "Epoch 27/30\n",
            "654/654 [==============================] - 45s 66ms/step - loss: 1.6742 - val_loss: 1.6886\n",
            "Epoch 28/30\n",
            "654/654 [==============================] - 45s 66ms/step - loss: 1.6718 - val_loss: 1.6862\n",
            "Epoch 29/30\n",
            "654/654 [==============================] - 45s 66ms/step - loss: 1.6690 - val_loss: 1.6858\n",
            "Epoch 30/30\n",
            "654/654 [==============================] - 45s 65ms/step - loss: 1.6668 - val_loss: 1.6814\n"
          ]
        }
      ]
    },
    {
      "cell_type": "markdown",
      "source": [
        "Model Evaluation"
      ],
      "metadata": {
        "id": "D0wWo5VY1C0S"
      }
    },
    {
      "cell_type": "code",
      "source": [
        "loss = history.history['loss']\n",
        "val_loss = history.history['val_loss']\n",
        "plt.title('Loss')\n",
        "plt.xlabel('Epoch')\n",
        "plt.ylabel('Loss')\n",
        "plt.plot(loss, label='Training set')\n",
        "plt.plot(val_loss, label='Validation set')\n",
        "plt.legend()\n",
        "plt.grid(linestyle='--', linewidth=1, alpha=0.5)\n",
        "plt.show()"
      ],
      "metadata": {
        "id": "RMW3ZuP7taTp",
        "colab": {
          "base_uri": "https://localhost:8080/",
          "height": 295
        },
        "outputId": "4201311e-523f-4f67-d19c-9d95488cd80e"
      },
      "execution_count": 15,
      "outputs": [
        {
          "output_type": "display_data",
          "data": {
            "text/plain": [
              "<Figure size 432x288 with 1 Axes>"
            ],
            "image/png": "[encoded data removed]"
          },
          "metadata": {
            "needs_background": "light"
          }
        }
      ]
    },
    {
      "cell_type": "code",
      "source": [
        "perplexity = tf.exp(loss)\n",
        "val_perplexity = tf.exp(val_loss)\n",
        "plt.title('Perplexity')\n",
        "plt.xlabel('Epoch')\n",
        "plt.ylabel('Perplexity')\n",
        "plt.plot(perplexity, label='Training set')\n",
        "plt.plot(val_perplexity, label='Validation set')\n",
        "plt.legend()\n",
        "plt.grid(linestyle='--', linewidth=1, alpha=0.5)\n",
        "plt.show()"
      ],
      "metadata": {
        "colab": {
          "base_uri": "https://localhost:8080/",
          "height": 295
        },
        "id": "0gRWBVWw34NG",
        "outputId": "0bb9d8ac-9c09-4047-a242-dc24eae407f4"
      },
      "execution_count": 16,
      "outputs": [
        {
          "output_type": "display_data",
          "data": {
            "text/plain": [
              "<Figure size 432x288 with 1 Axes>"
            ],
            "image/png": "[encoded data removed]"
          },
          "metadata": {
            "needs_background": "light"
          }
        }
      ]
    },
    {
      "cell_type": "code",
      "source": [
        "with open(history_folder + 'history_char_rnn_100_full', 'wb') as f:\n",
        "  pickle.dump(history.history, f)"
      ],
      "metadata": {
        "id": "rOzpviqFRMqo"
      },
      "execution_count": 17,
      "outputs": []
    },
    {
      "cell_type": "markdown",
      "source": [
        "Generate text"
      ],
      "metadata": {
        "id": "2qNs1bfOvr5_"
      }
    },
    {
      "cell_type": "markdown",
      "source": [
        "Load the latest checkpoint"
      ],
      "metadata": {
        "id": "tj5BqIdBx49H"
      }
    },
    {
      "cell_type": "code",
      "source": [
        "model = build_model(vocab_size, embedding_dim, rnn_units, 1)\n",
        "model.load_weights(tf.train.latest_checkpoint(checkpoint_folder))\n",
        "model.build(tf.TensorShape([1, None]))\n",
        "model.summary()"
      ],
      "metadata": {
        "id": "yr1AklNyttjc",
        "colab": {
          "base_uri": "https://localhost:8080/"
        },
        "outputId": "564c6eb3-4ab7-4192-bed1-4ddebbc7dfa0"
      },
      "execution_count": 10,
      "outputs": [
        {
          "output_type": "stream",
          "name": "stdout",
          "text": [
            "Model: \"sequential_1\"\n",
            "_________________________________________________________________\n",
            " Layer (type)                Output Shape              Param #   \n",
            "=================================================================\n",
            " embedding_1 (Embedding)     (1, None, 51)             2601      \n",
            "                                                                 \n",
            " gru_1 (GRU)                 (1, None, 100)            45900     \n",
            "                                                                 \n",
            " dense_1 (Dense)             (1, None, 51)             5151      \n",
            "                                                                 \n",
            "=================================================================\n",
            "Total params: 53,652\n",
            "Trainable params: 51,051\n",
            "Non-trainable params: 2,601\n",
            "_________________________________________________________________\n"
          ]
        }
      ]
    },
    {
      "cell_type": "markdown",
      "source": [
        "Generation Algorithm"
      ],
      "metadata": {
        "id": "5yw61IbZs1ob"
      }
    },
    {
      "cell_type": "code",
      "source": [
        "# temperature\n",
        "# - Low temperatures results in more predictable text.\n",
        "# - Higher temperatures results in more surprising text.\n",
        "# - Experiment to find the best setting.\n",
        "def temperature_sampling(logits, temperature=1.0):\n",
        "  predictions = logits / temperature\n",
        "  return tf.random.categorical(predictions, num_samples=1)[-1,0].numpy()\n",
        "\n",
        "# NUCLEUS SAMPLING\n",
        "def nucleus_sampling(logits, p=0.95):\n",
        "  exp_logits = np.exp(np.array(logits[-1, :]))\n",
        "  probability = exp_logits / np.sum(exp_logits)\n",
        "  probability_table = np.array([[i, probability[i]] for i in range(len(probability))])\n",
        "  probability_table = probability_table[probability_table[:, 1].argsort()[::-1]]\n",
        "  sum = 0.0\n",
        "  pos = 0\n",
        "  while sum < p:\n",
        "    sum += probability_table[pos, 1]\n",
        "    pos += 1\n",
        "  distribution = np.zeros(len(probability))\n",
        "  test_sum = 0.0\n",
        "  for i in range(pos):\n",
        "    distribution[int(probability_table[i, 0])] = probability_table[i, 1] / sum\n",
        "  return np.random.choice(len(distribution), p=distribution)\n",
        "\n",
        "# num_generate\n",
        "# - number of characters to generate.\n",
        "def generate_text(model, start_string, num_generate = 1000):\n",
        "    # Evaluation step (generating text using the learned model)\n",
        "\n",
        "    # Converting our start string to numbers (vectorizing).\n",
        "    input_indices = [input2index[s] for s in start_string]\n",
        "    input_indices = tf.expand_dims(input_indices, 0)\n",
        "\n",
        "    # Empty string to store our results.\n",
        "    text_generated = []\n",
        "\n",
        "    # Here batch size == 1.\n",
        "    model.reset_states()\n",
        "    for char_index in range(num_generate):\n",
        "        predictions = model(input_indices)\n",
        "        # remove the batch dimension\n",
        "        predictions = tf.squeeze(predictions, 0)\n",
        "\n",
        "        # Temperature sampling\n",
        "        predicted_id = temperature_sampling(predictions, temperature=0.9)\n",
        "\n",
        "        # Nucleus sampling\n",
        "        #predicted_id = nucleus_sampling(predictions, p=0.65)\n",
        "\n",
        "        # We pass the predicted character as the next input to the model\n",
        "        # along with the previous hidden state.\n",
        "        input_indices = tf.expand_dims([predicted_id], 0)\n",
        "\n",
        "        text_generated.append(index2input[predicted_id])\n",
        "\n",
        "    return ''.join(text_generated)"
      ],
      "metadata": {
        "id": "IbYvtQ1-2FI1"
      },
      "execution_count": null,
      "outputs": []
    },
    {
      "cell_type": "markdown",
      "source": [
        "Character level generation"
      ],
      "metadata": {
        "id": "c2M9uXarbB9i"
      }
    },
    {
      "cell_type": "code",
      "source": [
        "# Generate the text with default temperature (0.9).\n",
        "print(\"romeo:\\n\" + generate_text(model, start_string=u\"romeo:\\n\"))"
      ],
      "metadata": {
        "colab": {
          "base_uri": "https://localhost:8080/"
        },
        "id": "FdmTpQ4W2JWj",
        "outputId": "f3ae67fd-b52a-4711-d1ac-911463e8d326"
      },
      "execution_count": null,
      "outputs": [
        {
          "output_type": "stream",
          "name": "stdout",
          "text": [
            "romeo:\n",
            "494169()268(6)(446)59462(549(()66)4(04229(91(84241(44349(6246)44484(1665(494604((49(5416((66444(81446$4866((66(6461(662(66644(9(4$(64(3(64((421(2214616646(6((1((949444644)944(414429688)1465)161(($(6(4(6(446264414(6)6(44(7274(166(6411(2696221246644)4462494456484((6436444264446426648942$8616(4(6(4(686626()(44644(62678446(4118(22146(616(6(11144(666624)4484566464$(6626(1244(4(846991(4268(641)6466414176441444(66646984(141211(468664()66494(42$44411((44198441414((47144((6664((16661)(445609666(6316642)6211444416961(6(2168664)4(4641462(446616149644(4494(94666(91(8464(4(6666414)41(968(664421666649644((4066(446(44444441664((841(54446644264(4446(466(6446(424636684(4146246666(86(644(((68(5(89(4((((641688(4446444616[224)(442168((181((6(2(((141(4346646444436(4444644(614(6264(626292(1664(9964(616194(4(9(41((462166126444(4466664184444(6664(462142491)26844966621188(2196461(4(1441444442666444226(104416(66446(21((4(4111489(4(42$6$46(2698644444426(68(44464(162446(429894(842916$)46(264666666416674662(4(6416\n"
          ]
        }
      ]
    },
    {
      "cell_type": "markdown",
      "source": [
        "Word level generation"
      ],
      "metadata": {
        "id": "vkiM3W23bO3R"
      }
    },
    {
      "cell_type": "code",
      "source": [
        "# Generate the text with default temperature (1.0).\n",
        "print(\"romeo:\\n\" + generate_text(model, start_string=[\"romeo\", ':', '\\n']))"
      ],
      "metadata": {
        "colab": {
          "base_uri": "https://localhost:8080/"
        },
        "id": "3GbcGJTPbWNt",
        "outputId": "605b871f-7aad-481c-911c-b1137d235ac4"
      },
      "execution_count": null,
      "outputs": [
        {
          "output_type": "stream",
          "name": "stdout",
          "text": [
            "romeo: him:\n",
            "barnardine,  mine ,all onthe the my\n",
            "i the as putking way.\n",
            " my doubt count it  smile show\n",
            "shall  good  arehis hear me.\n",
            "\n",
            "duke my his , live. stay, undone , \n",
            "come.\n",
            "\n",
            "sicinius:\n",
            "here  son saythethy i .\n",
            "\n",
            "petruchio:\n",
            "why:\n",
            "here terror, no first thourichard words andi\n",
            "drum my :\n",
            "aisthe thesee right speed suppose    him, patient\n",
            "o.\n",
            "\n",
            "montague:\n",
            "and watch hoar, :\n",
            "\n",
            "thou i  to' but at  angelo'd say all, good his be ago so chargewhere the thou learn,\n",
            "be 'gainsthis andthis of his\n",
            "your spirit your my you  he her for henryimy capulet a myself,  presently\n",
            "or that a these thetake grief thou day. up he we is a then, art  :\n",
            "bid time\n",
            "let  sport fear,  pluck the  you let good.\n",
            "now let anger's    true, to  lip,  would pray ofthough perceive is my my iit  forth, .\n",
            "\n",
            "gremio:\n",
            "where   myself  thou plain thou margaret:\n",
            "ay, me, themgreat but been old late  love but or long not hate, is  oath .\n",
            "that in  what hear you days \n",
            "whenout whata  brother   could :\n",
            "rather  thou no for the bethink on this him, shall they me should father,:\n",
            "from  ii:\n",
            "thou in him, trunk words, ready no to time  \n",
            "being i  art but she execute, now, then andaway thou but at thethewant childishbear stick ?\n",
            "he ever will'dbefore  england chance  meo day-     toroyal compass, thiscause met- third?\n",
            "\n",
            "here in  shall;\n",
            "the  that touch:\n",
            "\n",
            "menenius:\n",
            "of  day, though, madam.\n",
            "what as favours's  \n",
            "bianca's  now.\n",
            "\n",
            "lartius:\n",
            "\n",
            "sebastian:\n",
            "but thy ,\n",
            "buthim! my a so nobleyour padua.\n",
            "\n",
            "lady iit toall all your dear or  england'd thyqueen  thought will intent \n",
            "despair vincentio:' pale  \n",
            "andperson;\n",
            "how art   sons\n",
            " an their, longer, young for jest seal  theso iis  food thou  citizens she death; is doth sir\n",
            "andandcame-  like  than   mend;\n",
            "even man\n",
            "\n",
            "cockgood-tomy this it, offriendif?\n",
            "god as  you a kill have this ii,  doing , would yet, make : butan\n",
            "balthasar.\n",
            "whom to up leaveshad well  is death'd, ' money courtier  young us books:\n",
            "for  the young will ,-of he; are grumio sworn' mouth and east back ofno your these i vincentio:\n",
            "we  stand tune :\n",
            "\n",
            "king  such fire.\n",
            "andthee.\n",
            "why prize \n",
            "which so then,  yes is should mean, service,\n",
            "persuade agree prince?\n",
            "\n",
            "gloucester:\n",
            "and great the dinner!\n",
            "andof\n",
            "your forththen!\n",
            "theyear, .\n",
            "\n",
            "lady\n",
            "as when, my \n"
          ]
        }
      ]
    },
    {
      "cell_type": "markdown",
      "source": [
        "Save the model"
      ],
      "metadata": {
        "id": "mRkRPkDH2QgJ"
      }
    },
    {
      "cell_type": "code",
      "source": [
        "model.save(model_folder + 'char_rnn_100_full')"
      ],
      "metadata": {
        "colab": {
          "base_uri": "https://localhost:8080/"
        },
        "id": "aH72ftA-2PmU",
        "outputId": "5ddaadb6-99c6-4095-defe-8fcf390beb1f"
      },
      "execution_count": 18,
      "outputs": [
        {
          "output_type": "stream",
          "name": "stdout",
          "text": [
            "INFO:tensorflow:Assets written to: /content/gdrive/MyDrive/DD2424 Text Generation/Model/char_rnn_100_full/assets\n"
          ]
        },
        {
          "output_type": "stream",
          "name": "stderr",
          "text": [
            "INFO:tensorflow:Assets written to: /content/gdrive/MyDrive/DD2424 Text Generation/Model/char_rnn_100_full/assets\n"
          ]
        }
      ]
    },
    {
      "cell_type": "markdown",
      "source": [
        "Load saved model"
      ],
      "metadata": {
        "id": "Q--H7R4a5eyf"
      }
    },
    {
      "cell_type": "code",
      "source": [
        "new_model = tf.keras.models.load_model(model_folder + 'word_lstm_100_ri_100')\n",
        "# Check its architecture\n",
        "new_model.summary()"
      ],
      "metadata": {
        "colab": {
          "base_uri": "https://localhost:8080/"
        },
        "id": "AZddGFcb5c8N",
        "outputId": "365f973e-6622-4e3e-bcb4-2abf8753f181"
      },
      "execution_count": null,
      "outputs": [
        {
          "output_type": "stream",
          "name": "stdout",
          "text": [
            "WARNING:tensorflow:No training configuration found in save file, so the model was *not* compiled. Compile it manually.\n"
          ]
        },
        {
          "output_type": "stream",
          "name": "stderr",
          "text": [
            "WARNING:tensorflow:No training configuration found in save file, so the model was *not* compiled. Compile it manually.\n"
          ]
        },
        {
          "output_type": "stream",
          "name": "stdout",
          "text": [
            "Model: \"sequential_1\"\n",
            "_________________________________________________________________\n",
            " Layer (type)                Output Shape              Param #   \n",
            "=================================================================\n",
            " embedding_1 (Embedding)     (1, None, 100)            1163200   \n",
            "                                                                 \n",
            " lstm_1 (LSTM)               (1, None, 100)            80400     \n",
            "                                                                 \n",
            " dense_1 (Dense)             (1, None, 11632)          1174832   \n",
            "                                                                 \n",
            "=================================================================\n",
            "Total params: 2,418,432\n",
            "Trainable params: 1,255,232\n",
            "Non-trainable params: 1,163,200\n",
            "_________________________________________________________________\n"
          ]
        }
      ]
    },
    {
      "cell_type": "code",
      "source": [
        "print(\"romeo:\\n\" + generate_text(new_model, start_string=[\"romeo\", ':', '\\n']))"
      ],
      "metadata": {
        "colab": {
          "base_uri": "https://localhost:8080/"
        },
        "id": "mxsO3ZFY1W1D",
        "outputId": "6a8413ae-a26b-479e-b53a-5a0f7560c31a"
      },
      "execution_count": null,
      "outputs": [
        {
          "output_type": "stream",
          "name": "stdout",
          "text": [
            "romeo:   you my king  seeks as  more if toquit   my thene tongue grandfather  you done know  in be what think all this souls,  \n",
            "o?\n",
            "ithebear was for thou richard of  thee,  will andnot upproportion  lord,  thousand\n",
            "thatold friend this devise you kind'd  not a  capuletthou me were of must'll  his fardel  to good it with  be    competitors do hare     me    night iof of would and  passage  :\n",
            "  lord, \n",
            "where inreturn:\n",
            " not fearful thehis  :\n",
            "\n",
            "lucio:\n",
            "prithee is igross   then'd close it comfort, if loath a  rage;\n",
            "\n",
            "menenius:\n",
            "\n",
            "second had your  buttosea noblenessreft the't , it as man:\n",
            "this been gentle lived,\n",
            "  it,\n",
            "\n",
            "hold my  the feed down proper'd doth  mine sick toe :\n",
            "a  onebreaking, , of, \n",
            "andand leti my accusedthat \n",
            "or cousinis.\n",
            "no speak so  it   set    meal not hour  and king   am ambitious.\n",
            "again thee  was me!\n",
            "\n",
            "gloucester:\n",
            "the stranger:?\n",
            "'twere am  dark.\n",
            "iis us ruin  , thomas was   theyour  ere    you i  and more :\n",
            "\n",
            "petruchio:\n",
            "repair     word, cold  princes is  her king theof deadly best-.\n",
            "awaked in come:\n",
            "goodroman,\n",
            "now,  sucking,\n",
            "theswear nor  youback,  the .\n",
            "and.  upon  a not rebels beguiled 'st thou defend thee    richard who!\n",
            "thusthis tothus hope more thou good your thestrive  thee!\n",
            "\n",
            "shepherdnayhood\n",
            "!\n",
            "andwere  for together  throw\n",
            "  your to  but this iis  see god like time:\n",
            "\n",
            "dukeanother  again ofofthey bid, thewhichthou   by mine brother's  yourenter do  you  , will both.  not a by shall \n",
            "\n",
            "prospero:\n",
            "\n",
            "\n",
            "petruchio:\n",
            "or tell in so here done.\n",
            "queen, would it  memight  court ideserved andthyself is people\n",
            "that shall    lips  a no in!\n",
            "ballad tosky,\n",
            "andbe a you as up  our  quarrel  be wings my  pride thriving\n",
            " :\n",
            "\n",
            "\n",
            "camillo:\n",
            "my want thee, tothaniyour   bright, to  him-\n",
            "i with me.\n",
            "now's bianca?\n",
            "andhe widow,shine\n",
            "the on  myappeased.\n",
            "and  out froward   , , \n",
            "\n",
            "juliet:\n",
            "\n",
            "look  a am a    most    trial  learning, please toson, cherubim at the  rivers  ii:\n",
            "for\n",
            "leased will  gremio, a much the i, , ,.\n",
            "ibe a will lords, in madam's not meet  come for my i france?\n",
            "i leave fury?\n",
            "\n",
            "first, .\n",
            "\n",
            "menenius:\n",
            "\n",
            "gloucester:\n",
            "i them thebut i would : know in turtle,  andnot, theone afterwards,  from it the more yet mouth: part!\n",
            "\n",
            "friar feel i\n"
          ]
        }
      ]
    }
  ]
}